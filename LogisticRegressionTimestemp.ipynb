{
 "cells": [
  {
   "cell_type": "markdown",
   "metadata": {
    "colab_type": "text",
    "id": "view-in-github"
   },
   "source": [
    "<a href=\"https://colab.research.google.com/github/jay2jaykp/ML/blob/master/LogisticRegressionTimestemp.ipynb\" target=\"_parent\"><img src=\"https://colab.research.google.com/assets/colab-badge.svg\" alt=\"Open In Colab\"/></a>"
   ]
  },
  {
   "cell_type": "code",
   "execution_count": null,
   "metadata": {
    "colab": {},
    "colab_type": "code",
    "id": "D7enJdI8kj-1"
   },
   "outputs": [],
   "source": [
    "import numpy as np\n",
    "import pandas as pd\n",
    "from collections import defaultdict, deque\n",
    "from functools import partial\n",
    "from tqdm import tqdm\n",
    "#from tqdm import tqdm_notebook as tqdm\n",
    "from sklearn.model_selection import train_test_split\n",
    "from sklearn.linear_model import LogisticRegression\n",
    "from sklearn.metrics import accuracy_score\n",
    "from sklearn.feature_extraction.text import CountVectorizer\n",
    "\n",
    "\n",
    "# import numpy as np\n",
    "# from collections import defaultdict\n",
    "# from functools import partial\n",
    "# import matplotlib.pyplot as plt\n",
    "# from matplotlib.pyplot import figure \n",
    "# import time\n",
    "# import argparse\n",
    "# \n",
    "# \n",
    "# #from sklearn.preprocessing import OneHotEncoder\n",
    "# from sklearn.preprocessing import MultiLabelBinarizer\n",
    "# "
   ]
  },
  {
   "cell_type": "code",
   "execution_count": 3,
   "metadata": {
    "colab": {
     "base_uri": "https://localhost:8080/",
     "height": 195
    },
    "colab_type": "code",
    "id": "tG33LZ34qrGM",
    "outputId": "bfe30034-f994-4fe2-e57c-47b4b9bb07c9"
   },
   "outputs": [
    {
     "data": {
      "text/html": [
       "<div>\n",
       "<style scoped>\n",
       "    .dataframe tbody tr th:only-of-type {\n",
       "        vertical-align: middle;\n",
       "    }\n",
       "\n",
       "    .dataframe tbody tr th {\n",
       "        vertical-align: top;\n",
       "    }\n",
       "\n",
       "    .dataframe thead th {\n",
       "        text-align: right;\n",
       "    }\n",
       "</style>\n",
       "<table border=\"1\" class=\"dataframe\">\n",
       "  <thead>\n",
       "    <tr style=\"text-align: right;\">\n",
       "      <th></th>\n",
       "      <th>no</th>\n",
       "      <th>timestamp</th>\n",
       "      <th>pid</th>\n",
       "      <th>pname</th>\n",
       "      <th>bno</th>\n",
       "      <th>bsize</th>\n",
       "      <th>op</th>\n",
       "      <th>dvmajor</th>\n",
       "      <th>dvminor</th>\n",
       "      <th>blockhash</th>\n",
       "    </tr>\n",
       "  </thead>\n",
       "  <tbody>\n",
       "    <tr>\n",
       "      <th>0</th>\n",
       "      <td>0</td>\n",
       "      <td>89966811921625</td>\n",
       "      <td>4257</td>\n",
       "      <td>nfsd</td>\n",
       "      <td>488846200</td>\n",
       "      <td>8</td>\n",
       "      <td>W</td>\n",
       "      <td>6</td>\n",
       "      <td>0</td>\n",
       "      <td>2c4787c7671c2f638777c4ab72859ce1</td>\n",
       "    </tr>\n",
       "    <tr>\n",
       "      <th>1</th>\n",
       "      <td>1</td>\n",
       "      <td>89967003980393</td>\n",
       "      <td>4253</td>\n",
       "      <td>nfsd</td>\n",
       "      <td>508455704</td>\n",
       "      <td>8</td>\n",
       "      <td>W</td>\n",
       "      <td>6</td>\n",
       "      <td>0</td>\n",
       "      <td>88b93b628d84082186026d9da044f173</td>\n",
       "    </tr>\n",
       "    <tr>\n",
       "      <th>2</th>\n",
       "      <td>2</td>\n",
       "      <td>89967004049935</td>\n",
       "      <td>4253</td>\n",
       "      <td>nfsd</td>\n",
       "      <td>508455712</td>\n",
       "      <td>8</td>\n",
       "      <td>W</td>\n",
       "      <td>6</td>\n",
       "      <td>0</td>\n",
       "      <td>b5e9f4e5ab62a4fff5313a606b0ad4e3</td>\n",
       "    </tr>\n",
       "    <tr>\n",
       "      <th>3</th>\n",
       "      <td>3</td>\n",
       "      <td>89967004093615</td>\n",
       "      <td>4253</td>\n",
       "      <td>nfsd</td>\n",
       "      <td>508455720</td>\n",
       "      <td>8</td>\n",
       "      <td>W</td>\n",
       "      <td>6</td>\n",
       "      <td>0</td>\n",
       "      <td>7af5556ad4d45263bcd8358867333dd4</td>\n",
       "    </tr>\n",
       "    <tr>\n",
       "      <th>4</th>\n",
       "      <td>4</td>\n",
       "      <td>89967324150054</td>\n",
       "      <td>4254</td>\n",
       "      <td>nfsd</td>\n",
       "      <td>508500288</td>\n",
       "      <td>8</td>\n",
       "      <td>W</td>\n",
       "      <td>6</td>\n",
       "      <td>0</td>\n",
       "      <td>88b93b628d84082186026d9da044f173</td>\n",
       "    </tr>\n",
       "  </tbody>\n",
       "</table>\n",
       "</div>"
      ],
      "text/plain": [
       "   no       timestamp   pid pname        bno  bsize op  dvmajor  dvminor  \\\n",
       "0   0  89966811921625  4257  nfsd  488846200      8  W        6        0   \n",
       "1   1  89967003980393  4253  nfsd  508455704      8  W        6        0   \n",
       "2   2  89967004049935  4253  nfsd  508455712      8  W        6        0   \n",
       "3   3  89967004093615  4253  nfsd  508455720      8  W        6        0   \n",
       "4   4  89967324150054  4254  nfsd  508500288      8  W        6        0   \n",
       "\n",
       "                          blockhash  \n",
       "0  2c4787c7671c2f638777c4ab72859ce1  \n",
       "1  88b93b628d84082186026d9da044f173  \n",
       "2  b5e9f4e5ab62a4fff5313a606b0ad4e3  \n",
       "3  7af5556ad4d45263bcd8358867333dd4  \n",
       "4  88b93b628d84082186026d9da044f173  "
      ]
     },
     "execution_count": 3,
     "metadata": {
      "tags": []
     },
     "output_type": "execute_result"
    }
   ],
   "source": [
    "df = pd.read_csv('smalltrace.csv', sep='\\t')\n",
    "df.columns = ['no','timestamp','pid','pname','bno', 'bsize', 'op', 'dvmajor', 'dvminor', 'blockhash']\n",
    "df.head()"
   ]
  },
  {
   "cell_type": "code",
   "execution_count": 4,
   "metadata": {
    "colab": {
     "base_uri": "https://localhost:8080/",
     "height": 34
    },
    "colab_type": "code",
    "id": "wCIjb_85mADH",
    "outputId": "51ec17cc-4f5c-4f01-8880-4b718aac8ad8"
   },
   "outputs": [
    {
     "data": {
      "text/plain": [
       "100000"
      ]
     },
     "execution_count": 4,
     "metadata": {
      "tags": []
     },
     "output_type": "execute_result"
    }
   ],
   "source": [
    "l = list(range(10))\n",
    "df.size"
   ]
  },
  {
   "cell_type": "code",
   "execution_count": null,
   "metadata": {
    "colab": {},
    "colab_type": "code",
    "id": "TBdjORumqzVQ"
   },
   "outputs": [],
   "source": [
    "blocktrace = df['bno'].tolist()\n",
    "sequences = list(range(df.size))\n",
    "#convert element to int from str\n",
    "blocktrace = np.array([int(x) for x in blocktrace])"
   ]
  },
  {
   "cell_type": "code",
   "execution_count": 6,
   "metadata": {
    "colab": {
     "base_uri": "https://localhost:8080/",
     "height": 34
    },
    "colab_type": "code",
    "id": "ZE80EtLrmADM",
    "outputId": "7b091db6-be8b-481f-f917-12bc8ffaf8be"
   },
   "outputs": [
    {
     "data": {
      "text/plain": [
       "9207"
      ]
     },
     "execution_count": 6,
     "metadata": {
      "tags": []
     },
     "output_type": "execute_result"
    }
   ],
   "source": [
    "len(set(blocktrace))"
   ]
  },
  {
   "cell_type": "code",
   "execution_count": null,
   "metadata": {
    "colab": {},
    "colab_type": "code",
    "id": "kxDgJdjTwwQH"
   },
   "outputs": [],
   "source": [
    "''' \n",
    "  Input: Cache sequence [1, 2, 3]. get cache blocks by df['bno'][cache sequence #]\n",
    "  get timestamp\n",
    "  df['timestamp'][1], df['timestamp'][2], df['timestamp'][3]\n",
    "  find avg. (avgTS)\n",
    "  get relative => (avgTS - df['timestamp'][A])\n",
    "  Output: [relativeA, relativeB, relativeC]\n",
    "'''\n",
    "\n",
    "def getRelativeTS(Cache_indices):\n",
    "    tfsm=np.zeros((len(Cache_indices)))\n",
    "    for i in Cache_indices:\n",
    "        tfsm[Cache_indices.index(i)] = df.timestamp[i]\n",
    "\n",
    "    avgTS = np.mean(tfsm)\n",
    "    relTS = avgTS-tfsm\n",
    "\n",
    "    return list(relTS)    \n",
    "    #df.at[]"
   ]
  },
  {
   "cell_type": "code",
   "execution_count": 7,
   "metadata": {
    "colab": {
     "base_uri": "https://localhost:8080/",
     "height": 464
    },
    "colab_type": "code",
    "collapsed": true,
    "id": "CJti2lQoxI2s",
    "jupyter": {
     "outputs_hidden": true
    },
    "outputId": "4e5c077d-9c1e-42f2-e226-b704ceb06382"
   },
   "outputs": [
    {
     "ename": "ValueError",
     "evalue": "ignored",
     "output_type": "error",
     "traceback": [
      "\u001b[0;31m---------------------------------------------------------------------------\u001b[0m",
      "\u001b[0;31mValueError\u001b[0m                                Traceback (most recent call last)",
      "\u001b[0;32m<ipython-input-7-b1cb1fd020eb>\u001b[0m in \u001b[0;36m<module>\u001b[0;34m()\u001b[0m\n\u001b[1;32m      1\u001b[0m \u001b[0ml\u001b[0m\u001b[0;34m=\u001b[0m\u001b[0;34m[\u001b[0m\u001b[0;36m0\u001b[0m\u001b[0;34m,\u001b[0m\u001b[0;36m1\u001b[0m\u001b[0;34m]\u001b[0m\u001b[0;34m\u001b[0m\u001b[0m\n\u001b[0;32m----> 2\u001b[0;31m \u001b[0mdf\u001b[0m\u001b[0;34m.\u001b[0m\u001b[0mat\u001b[0m\u001b[0;34m[\u001b[0m\u001b[0;36m1\u001b[0m\u001b[0;34m,\u001b[0m\u001b[0;36m1\u001b[0m\u001b[0;34m]\u001b[0m\u001b[0;34m\u001b[0m\u001b[0m\n\u001b[0m\u001b[1;32m      3\u001b[0m \u001b[0;31m#t=np.zeros((4,1))\u001b[0m\u001b[0;34m\u001b[0m\u001b[0;34m\u001b[0m\u001b[0m\n\u001b[1;32m      4\u001b[0m \u001b[0mt\u001b[0m\u001b[0;34m=\u001b[0m\u001b[0mnp\u001b[0m\u001b[0;34m.\u001b[0m\u001b[0marray\u001b[0m\u001b[0;34m(\u001b[0m\u001b[0;34m[\u001b[0m\u001b[0;36m1\u001b[0m\u001b[0;34m,\u001b[0m\u001b[0;36m2\u001b[0m\u001b[0;34m,\u001b[0m\u001b[0;36m3\u001b[0m\u001b[0;34m]\u001b[0m\u001b[0;34m)\u001b[0m\u001b[0;34m\u001b[0m\u001b[0m\n\u001b[1;32m      5\u001b[0m \u001b[0mb\u001b[0m\u001b[0;34m=\u001b[0m\u001b[0;36m4\u001b[0m\u001b[0;34m\u001b[0m\u001b[0m\n",
      "\u001b[0;32m/usr/local/lib/python3.6/dist-packages/pandas/core/indexing.py\u001b[0m in \u001b[0;36m__getitem__\u001b[0;34m(self, key)\u001b[0m\n\u001b[1;32m   1866\u001b[0m                 \u001b[0;32mraise\u001b[0m \u001b[0mValueError\u001b[0m\u001b[0;34m(\u001b[0m\u001b[0;34m'Invalid call for scalar access (getting)!'\u001b[0m\u001b[0;34m)\u001b[0m\u001b[0;34m\u001b[0m\u001b[0m\n\u001b[1;32m   1867\u001b[0m \u001b[0;34m\u001b[0m\u001b[0m\n\u001b[0;32m-> 1868\u001b[0;31m         \u001b[0mkey\u001b[0m \u001b[0;34m=\u001b[0m \u001b[0mself\u001b[0m\u001b[0;34m.\u001b[0m\u001b[0m_convert_key\u001b[0m\u001b[0;34m(\u001b[0m\u001b[0mkey\u001b[0m\u001b[0;34m)\u001b[0m\u001b[0;34m\u001b[0m\u001b[0m\n\u001b[0m\u001b[1;32m   1869\u001b[0m         \u001b[0;32mreturn\u001b[0m \u001b[0mself\u001b[0m\u001b[0;34m.\u001b[0m\u001b[0mobj\u001b[0m\u001b[0;34m.\u001b[0m\u001b[0m_get_value\u001b[0m\u001b[0;34m(\u001b[0m\u001b[0;34m*\u001b[0m\u001b[0mkey\u001b[0m\u001b[0;34m,\u001b[0m \u001b[0mtakeable\u001b[0m\u001b[0;34m=\u001b[0m\u001b[0mself\u001b[0m\u001b[0;34m.\u001b[0m\u001b[0m_takeable\u001b[0m\u001b[0;34m)\u001b[0m\u001b[0;34m\u001b[0m\u001b[0m\n\u001b[1;32m   1870\u001b[0m \u001b[0;34m\u001b[0m\u001b[0m\n",
      "\u001b[0;32m/usr/local/lib/python3.6/dist-packages/pandas/core/indexing.py\u001b[0m in \u001b[0;36m_convert_key\u001b[0;34m(self, key, is_setter)\u001b[0m\n\u001b[1;32m   1913\u001b[0m             \u001b[0;32melse\u001b[0m\u001b[0;34m:\u001b[0m\u001b[0;34m\u001b[0m\u001b[0m\n\u001b[1;32m   1914\u001b[0m                 \u001b[0;32mif\u001b[0m \u001b[0mis_integer\u001b[0m\u001b[0;34m(\u001b[0m\u001b[0mi\u001b[0m\u001b[0;34m)\u001b[0m\u001b[0;34m:\u001b[0m\u001b[0;34m\u001b[0m\u001b[0m\n\u001b[0;32m-> 1915\u001b[0;31m                     raise ValueError(\"At based indexing on an non-integer \"\n\u001b[0m\u001b[1;32m   1916\u001b[0m                                      \u001b[0;34m\"index can only have non-integer \"\u001b[0m\u001b[0;34m\u001b[0m\u001b[0m\n\u001b[1;32m   1917\u001b[0m                                      \"indexers\")\n",
      "\u001b[0;31mValueError\u001b[0m: At based indexing on an non-integer index can only have non-integer indexers"
     ]
    }
   ],
   "source": [
    "l=[0,1]\n",
    "df.at[1,1]\n",
    "#t=np.zeros((4,1))\n",
    "t=np.array([1,2,3])\n",
    "b=4\n",
    "t=list(np.append(t,b))\n",
    "t\n",
    "np.mean([1,2,3])"
   ]
  },
  {
   "cell_type": "code",
   "execution_count": 8,
   "metadata": {
    "colab": {
     "base_uri": "https://localhost:8080/",
     "height": 145
    },
    "colab_type": "code",
    "id": "KhRll4MwxDMf",
    "outputId": "1d29318f-ba17-45ac-c13e-dfa9c228be6f"
   },
   "outputs": [
    {
     "ename": "SyntaxError",
     "evalue": "ignored",
     "output_type": "error",
     "traceback": [
      "\u001b[0;36m  File \u001b[0;32m\"<ipython-input-8-bd89e5a3bb7f>\"\u001b[0;36m, line \u001b[0;32m6\u001b[0m\n\u001b[0;31m    ''''\u001b[0m\n\u001b[0m        \n^\u001b[0m\n\u001b[0;31mSyntaxError\u001b[0m\u001b[0;31m:\u001b[0m EOL while scanning string literal\n"
     ]
    }
   ],
   "source": [
    "  \n",
    "''' \n",
    "  Input: Input: Cache sequence [1, 2, 3]. get cache blocks [A,B,C] by df['bno'][cache sequence #]\n",
    "  gdaAbno\n",
    "  df['bno'][1], df['bno'][2], df['bno'][3]\n",
    "''''\n",
    "def getRelativePos():"
   ]
  },
  {
   "cell_type": "code",
   "execution_count": null,
   "metadata": {
    "colab": {},
    "colab_type": "code",
    "id": "7vuiolXiqqwP"
   },
   "outputs": [],
   "source": [
    "\n",
    "\n",
    "  \n",
    "\n",
    "'''\n",
    "get the furthest accessed block. Scans OPT dictionary and selects the maximum positioned element\n",
    "'''\n",
    "\n",
    "def getFurthestAccessBlock(C, OPT):\n",
    "    maxAccessPosition = -1\n",
    "    maxAccessBlock = -1\n",
    "    for cached_block in C:\n",
    "        if len(OPT[cached_block]) is 0:\n",
    "            #print ( \"Not Acccessing block anymore \" + str(cached_block))\n",
    "            return cached_block            \n",
    "    for cached_block in C:  \n",
    "        if OPT[cached_block][0] > maxAccessPosition:\n",
    "            maxAccessPosition = OPT[cached_block][0]\n",
    "            maxAccessBlock = cached_block\n",
    "    #print ( \"chose to evict \" + str(maxAccessBlock) + \" since its position of access is \" + str(maxAccessPosition))\n",
    "    return maxAccessBlock\n",
    "\n",
    "def belady_opt(blocktrace,sequences,frame):\n",
    "    OPT = defaultdict(partial(np.ndarray,0))\n",
    "\n",
    "    for i, block in enumerate(tqdm(blocktrace, desc=\"OPT: building index\")):\n",
    "        OPT[block] = np.append(OPT[block], i)    \n",
    "\n",
    "    #print (\"created OPT dictionary\")    \n",
    "\n",
    "    hit, miss = 0, 0\n",
    "\n",
    "    C = deque()\n",
    "    C2 = deque()\n",
    "    d = defaultdict(deque)\n",
    "    d_ftime = set()\n",
    "    d_timestamp = {}\n",
    "    d_label = {}\n",
    "    \n",
    "    for k,block in enumerate(tqdm(blocktrace, desc=\"OPT\", leave=False)):\n",
    "\n",
    "        if block in C:\n",
    "            #OPT[block] = OPT[block][1:]\n",
    "            OPT[block] = np.delete(OPT[block],0)\n",
    "            hit+=1\n",
    "            #print('hit' + str(block))\n",
    "            #print(OPT)\n",
    "        else:\n",
    "            #print('miss' + str(block))\n",
    "            miss+=1\n",
    "            if len(C) == frame:\n",
    "                fblock = getFurthestAccessBlock(C, OPT)\n",
    "                assert(fblock != -1)\n",
    "                d[fblock] = deque(zip(C,C2)) \n",
    "                d_timestamp[fblock] = getRelativeTS(list(C2)) #Returning Time Stemp\n",
    "                d_label[fblock] = C.index(fblock)\n",
    "                C2.remove(C2[C.index(fblock)])\n",
    "                C.remove(fblock)\n",
    "                #C2.remove()\n",
    "                d_ftime.add(sequences[k])\n",
    "            C.append(block)\n",
    "            C2.append(k)\n",
    "            d_ftime.add(sequences[k])\n",
    "            #OPT[block] = OPT[block][1:]\n",
    "            #print(OPT)\n",
    "            OPT[block] = np.delete(OPT[block],[0])\n",
    "\n",
    "    #print (\"hit count\" + str(hit_count))\n",
    "    #print (\"miss count\" + str(miss_count))\n",
    "    hitrate = hit / (hit + miss)\n",
    "    print(hitrate)\n",
    "    return d,d_timestamp,d_label"
   ]
  },
  {
   "cell_type": "code",
   "execution_count": 10,
   "metadata": {
    "colab": {
     "base_uri": "https://localhost:8080/",
     "height": 50
    },
    "colab_type": "code",
    "id": "-hY8q2B6r2Zb",
    "outputId": "dd622e8a-cbc3-4c8e-b466-44387277cd9e"
   },
   "outputs": [
    {
     "name": "stderr",
     "output_type": "stream",
     "text": [
      "OPT: building index: 100%|██████████| 10000/10000 [00:00<00:00, 123689.66it/s]\n",
      "                                                         "
     ]
    },
    {
     "name": "stdout",
     "output_type": "stream",
     "text": [
      "0.0793\n"
     ]
    },
    {
     "name": "stderr",
     "output_type": "stream",
     "text": [
      "\r"
     ]
    }
   ],
   "source": [
    "d,d_timestamp,d_label = belady_opt(blocktrace,sequences, 500)"
   ]
  },
  {
   "cell_type": "code",
   "execution_count": null,
   "metadata": {
    "colab": {},
    "colab_type": "code",
    "id": "hRRV_MRjnySt"
   },
   "outputs": [],
   "source": [
    "d[14254312]"
   ]
  },
  {
   "cell_type": "code",
   "execution_count": null,
   "metadata": {
    "colab": {},
    "colab_type": "code",
    "id": "wyJuyag2tUv8"
   },
   "outputs": [],
   "source": [
    "len(set(l))"
   ]
  },
  {
   "cell_type": "code",
   "execution_count": 11,
   "metadata": {
    "colab": {
     "base_uri": "https://localhost:8080/",
     "height": 34
    },
    "colab_type": "code",
    "id": "WCjr76OZBSQv",
    "outputId": "9012cceb-f0d2-4c18-8f0a-6692dc42ea51"
   },
   "outputs": [
    {
     "data": {
      "text/plain": [
       "8707"
      ]
     },
     "execution_count": 11,
     "metadata": {
      "tags": []
     },
     "output_type": "execute_result"
    }
   ],
   "source": [
    "#Time Stamp only (Training data)\n",
    "data = []\n",
    "for i,j in d_timestamp.items():\n",
    "    dat = list(map(str, j))\n",
    "    data.append(' '.join(dat))\n",
    "    #label.append(i)\n",
    "len(data)"
   ]
  },
  {
   "cell_type": "code",
   "execution_count": 12,
   "metadata": {
    "colab": {
     "base_uri": "https://localhost:8080/",
     "height": 34
    },
    "colab_type": "code",
    "id": "mskfFv6BvLch",
    "outputId": "bf4a8ae8-0642-4f29-928c-96053053f445"
   },
   "outputs": [
    {
     "data": {
      "text/plain": [
       "16"
      ]
     },
     "execution_count": 12,
     "metadata": {
      "tags": []
     },
     "output_type": "execute_result"
    }
   ],
   "source": [
    "#Time Stamp only (Label data)\n",
    "label = []\n",
    "for i,j in d_label.items():\n",
    "    label.append(j)\n",
    "len(set(label))"
   ]
  },
  {
   "cell_type": "code",
   "execution_count": 13,
   "metadata": {
    "colab": {
     "base_uri": "https://localhost:8080/",
     "height": 50
    },
    "colab_type": "code",
    "id": "caQMlNN_voo3",
    "outputId": "9d36becc-83e1-466c-93a0-e21589cd4ac0"
   },
   "outputs": [
    {
     "data": {
      "text/plain": [
       "<8707x4288746 sparse matrix of type '<class 'numpy.int64'>'\n",
       "\twith 4338246 stored elements in Compressed Sparse Row format>"
      ]
     },
     "execution_count": 13,
     "metadata": {
      "tags": []
     },
     "output_type": "execute_result"
    }
   ],
   "source": [
    "#CountVEctorizer for fitting the data\n",
    "vec = CountVectorizer(binary=True)\n",
    "vec_ = vec.fit(data)\n",
    "DATA = vec_.transform(data)\n",
    "DATA"
   ]
  },
  {
   "cell_type": "code",
   "execution_count": null,
   "metadata": {
    "colab": {},
    "colab_type": "code",
    "id": "DCned4HMv3gI"
   },
   "outputs": [],
   "source": [
    "#Train-Test split\n",
    "X_train, X_test, Y_train, Y_test = train_test_split(DATA, label ,test_size=0.5, shuffle=True)"
   ]
  },
  {
   "cell_type": "code",
   "execution_count": null,
   "metadata": {
    "colab": {},
    "colab_type": "code",
    "id": "7aH1uNiJs7ou"
   },
   "outputs": [],
   "source": [
    "#Fitting Logistic Regression Model\n",
    "clf = LogisticRegression().fit(X_train, Y_train)"
   ]
  },
  {
   "cell_type": "code",
   "execution_count": null,
   "metadata": {
    "colab": {},
    "colab_type": "code",
    "id": "DrcY8mRAvgqN"
   },
   "outputs": [],
   "source": [
    "#Accuracy Testing\n",
    "accuracy_score(Y_test, clf.predict(X_test))"
   ]
  },
  {
   "cell_type": "code",
   "execution_count": null,
   "metadata": {
    "colab": {},
    "colab_type": "code",
    "id": "Hiw3JqTawJsY"
   },
   "outputs": [],
   "source": [
    "from sklearn.metrics import confusion_matrix\n",
    "confusion_matrix(Y_test, clf.predict(X_test))"
   ]
  },
  {
   "cell_type": "code",
   "execution_count": null,
   "metadata": {
    "colab": {},
    "colab_type": "code",
    "id": "l1W0mYSsoI3D"
   },
   "outputs": [],
   "source": [
    "from sklearn.neural_network import MLPClassifier"
   ]
  },
  {
   "cell_type": "code",
   "execution_count": 16,
   "metadata": {
    "colab": {
     "base_uri": "https://localhost:8080/",
     "height": 134
    },
    "colab_type": "code",
    "id": "UWNo6rRExscu",
    "outputId": "511492d9-eeac-4175-b6a4-c9ab32630cc3"
   },
   "outputs": [
    {
     "data": {
      "text/plain": [
       "MLPClassifier(activation='relu', alpha=1e-05, batch_size='auto', beta_1=0.9,\n",
       "       beta_2=0.999, early_stopping=False, epsilon=1e-08,\n",
       "       hidden_layer_sizes=(3, 1), learning_rate='constant',\n",
       "       learning_rate_init=0.001, max_iter=200, momentum=0.9,\n",
       "       nesterovs_momentum=True, power_t=0.5, random_state=1, shuffle=True,\n",
       "       solver='lbfgs', tol=0.0001, validation_fraction=0.1, verbose=False,\n",
       "       warm_start=False)"
      ]
     },
     "execution_count": 16,
     "metadata": {
      "tags": []
     },
     "output_type": "execute_result"
    }
   ],
   "source": [
    "clf = MLPClassifier(solver='lbfgs', alpha=1e-5,\n",
    "                    hidden_layer_sizes=(3, 1), random_state=1)\n",
    "\n",
    "clf.fit(X_train, Y_train) "
   ]
  },
  {
   "cell_type": "code",
   "execution_count": 17,
   "metadata": {
    "colab": {
     "base_uri": "https://localhost:8080/",
     "height": 34
    },
    "colab_type": "code",
    "id": "vKfYyBo7ogmg",
    "outputId": "7bd45412-2d02-44ad-90e5-3e092a073cac"
   },
   "outputs": [
    {
     "data": {
      "text/plain": [
       "0.07510335323840148"
      ]
     },
     "execution_count": 17,
     "metadata": {
      "tags": []
     },
     "output_type": "execute_result"
    }
   ],
   "source": [
    "accuracy_score(Y_test, clf.predict(X_test))"
   ]
  },
  {
   "cell_type": "code",
   "execution_count": 19,
   "metadata": {
    "colab": {
     "base_uri": "https://localhost:8080/",
     "height": 521
    },
    "colab_type": "code",
    "id": "PmVztS99ufZU",
    "outputId": "f30cb4a4-1a19-4c03-cd10-65b44589a685"
   },
   "outputs": [
    {
     "data": {
      "text/plain": [
       "array([[ 327,    0,    0,    0,    0,    0,    0,    0,    0,    0,    0,\n",
       "           0,    0,    0,    0],\n",
       "       [   7,    0,    0,    0,    0,    0,    0,    0,    0,    0,    0,\n",
       "           0,    0,    0,    0],\n",
       "       [  94,    0,    0,    0,    0,    0,    0,    0,    0,    0,    0,\n",
       "           0,    0,    0,    0],\n",
       "       [   2,    0,    0,    0,    0,    0,    0,    0,    0,    0,    0,\n",
       "           0,    0,    0,    0],\n",
       "       [   4,    0,    0,    0,    0,    0,    0,    0,    0,    0,    0,\n",
       "           0,    0,    0,    0],\n",
       "       [ 264,    0,    0,    0,    0,    0,    0,    0,    0,    0,    0,\n",
       "           0,    0,    0,    0],\n",
       "       [ 423,    0,    0,    0,    0,    0,    0,    0,    0,    0,    0,\n",
       "           0,    0,    0,    0],\n",
       "       [ 685,    0,    0,    0,    0,    0,    0,    0,    0,    0,    0,\n",
       "           0,    0,    0,    0],\n",
       "       [ 323,    0,    0,    0,    0,    0,    0,    0,    0,    0,    0,\n",
       "           0,    0,    0,    0],\n",
       "       [ 130,    0,    0,    0,    0,    0,    0,    0,    0,    0,    0,\n",
       "           0,    0,    0,    0],\n",
       "       [  30,    0,    0,    0,    0,    0,    0,    0,    0,    0,    0,\n",
       "           0,    0,    0,    0],\n",
       "       [ 127,    0,    0,    0,    0,    0,    0,    0,    0,    0,    0,\n",
       "           0,    0,    0,    0],\n",
       "       [ 159,    0,    0,    0,    0,    0,    0,    0,    0,    0,    0,\n",
       "           0,    0,    0,    0],\n",
       "       [ 496,    0,    0,    0,    0,    0,    0,    0,    0,    0,    0,\n",
       "           0,    0,    0,    0],\n",
       "       [1283,    0,    0,    0,    0,    0,    0,    0,    0,    0,    0,\n",
       "           0,    0,    0,    0]])"
      ]
     },
     "execution_count": 19,
     "metadata": {
      "tags": []
     },
     "output_type": "execute_result"
    }
   ],
   "source": [
    "from sklearn.metrics import confusion_matrix\n",
    "confusion_matrix(Y_test, clf.predict(X_test))"
   ]
  },
  {
   "cell_type": "code",
   "execution_count": null,
   "metadata": {
    "colab": {},
    "colab_type": "code",
    "id": "U0Yog-Dhukkj"
   },
   "outputs": [],
   "source": []
  }
 ],
 "metadata": {
  "accelerator": "GPU",
  "colab": {
   "include_colab_link": true,
   "name": "LogisticRegression.ipynb",
   "provenance": [],
   "version": "0.3.2"
  },
  "kernelspec": {
   "display_name": "Python 3 (ipykernel)",
   "language": "python",
   "name": "python3"
  },
  "language_info": {
   "codemirror_mode": {
    "name": "ipython",
    "version": 3
   },
   "file_extension": ".py",
   "mimetype": "text/x-python",
   "name": "python",
   "nbconvert_exporter": "python",
   "pygments_lexer": "ipython3",
   "version": "3.8.10"
  }
 },
 "nbformat": 4,
 "nbformat_minor": 4
}
